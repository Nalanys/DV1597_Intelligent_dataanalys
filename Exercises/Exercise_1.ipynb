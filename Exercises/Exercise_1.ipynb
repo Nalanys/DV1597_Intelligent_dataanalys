{
 "cells": [
  {
   "cell_type": "code",
   "execution_count": 70,
   "metadata": {},
   "outputs": [],
   "source": [
    "import re\n",
    "import pandas as pd"
   ]
  },
  {
   "cell_type": "code",
   "execution_count": 71,
   "metadata": {},
   "outputs": [],
   "source": [
    "tweetData = {'tweet': ['This is an #example Tweet for the interesting #DataAnalysis course at #BTH in #2023.',\n",
    "                        'The #AIStudents are taking the course for the second year at the campus in #Karlskrona.', \n",
    "                        'The #course is #interesting and #challenging. #DataAnalysis is a #hot topic in #2023.']}\n"
   ]
  },
  {
   "cell_type": "code",
   "execution_count": 72,
   "metadata": {},
   "outputs": [
    {
     "name": "stdout",
     "output_type": "stream",
     "text": [
      "                                               tweet\n",
      "0  This is an #example Tweet for the interesting ...\n",
      "1  The #AIStudents are taking the course for the ...\n",
      "2  The #course is #interesting and #challenging. ...\n"
     ]
    }
   ],
   "source": [
    "df = pd.DataFrame(tweetData)\n",
    "print(df)"
   ]
  },
  {
   "cell_type": "code",
   "execution_count": 73,
   "metadata": {},
   "outputs": [
    {
     "name": "stdout",
     "output_type": "stream",
     "text": [
      "                                               tweet  \\\n",
      "0  This is an #example Tweet for the interesting ...   \n",
      "1  The #AIStudents are taking the course for the ...   \n",
      "2  The #course is #interesting and #challenging. ...   \n",
      "\n",
      "                                             hashtag  \n",
      "0             [#example, #DataAnalysis, #BTH, #2023]  \n",
      "1                         [#AIStudents, #Karlskrona]  \n",
      "2  [#course, #interesting, #challenging, #DataAna...  \n"
     ]
    }
   ],
   "source": [
    "\n",
    "\n",
    "def extractHashtag(df):\n",
    "    hashtagPattern = re.compile(r'#\\w+')\n",
    "    hashtag = df['tweet'].str.findall(hashtagPattern)\n",
    "    df['hashtag'] = hashtag\n",
    "    return df\n",
    "\n",
    "print(extractHashtag(df))"
   ]
  }
 ],
 "metadata": {
  "kernelspec": {
   "display_name": "Python 3",
   "language": "python",
   "name": "python3"
  },
  "language_info": {
   "codemirror_mode": {
    "name": "ipython",
    "version": 3
   },
   "file_extension": ".py",
   "mimetype": "text/x-python",
   "name": "python",
   "nbconvert_exporter": "python",
   "pygments_lexer": "ipython3",
   "version": "3.11.0"
  },
  "orig_nbformat": 4,
  "vscode": {
   "interpreter": {
    "hash": "3d0c168bda26c0e3cade07ef9fbe7f4501b195bd9a3ef3d4de70bdc2ac826e68"
   }
  }
 },
 "nbformat": 4,
 "nbformat_minor": 2
}
