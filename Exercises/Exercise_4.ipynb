{
 "cells": [
  {
   "cell_type": "code",
   "execution_count": 1,
   "metadata": {},
   "outputs": [],
   "source": [
    "import numpy as np\n",
    "import cv2\n",
    "import glob"
   ]
  },
  {
   "attachments": {},
   "cell_type": "markdown",
   "metadata": {},
   "source": [
    "Andreas:"
   ]
  },
  {
   "cell_type": "code",
   "execution_count": null,
   "metadata": {},
   "outputs": [],
   "source": [
    "imagesFolderAndreas = 'Datasets\\Exercise_4\\Andreas'\n",
    "imagesAndreas = []\n",
    "for i in glob.glob(imagesFolderAndreas + \"/*.png\"):\n",
    "    image = cv2.imread(i)\n",
    "    imagesAndreas.append(image)"
   ]
  },
  {
   "attachments": {},
   "cell_type": "markdown",
   "metadata": {},
   "source": [
    "Marie:"
   ]
  },
  {
   "cell_type": "code",
   "execution_count": null,
   "metadata": {},
   "outputs": [],
   "source": [
    "imagesFolderMarie = 'Datasets\\Exercise_4\\Marie'\n",
    "imagesMarie = []\n",
    "for i in glob.glob(imagesFolderMarie + \"/*.png\"):\n",
    "    image = cv2.imread(i)\n",
    "    imagesMarie.append(image)"
   ]
  },
  {
   "attachments": {},
   "cell_type": "markdown",
   "metadata": {},
   "source": [
    "Mikael:"
   ]
  },
  {
   "cell_type": "code",
   "execution_count": null,
   "metadata": {},
   "outputs": [],
   "source": [
    "imagesFolderMikael = 'Datasets\\Exercise_4\\Mikael'\n",
    "imagesMikael = []\n",
    "for i in glob.glob(imagesFolderMikael + \"/*.png\"):\n",
    "    image = cv2.imread(i)\n",
    "    imagesMikael.append(image)"
   ]
  },
  {
   "attachments": {},
   "cell_type": "markdown",
   "metadata": {},
   "source": [
    "Stefan:"
   ]
  },
  {
   "cell_type": "code",
   "execution_count": null,
   "metadata": {},
   "outputs": [],
   "source": [
    "imagesFolderStefan = 'Datasets\\Exercise_4\\Stefan'\n",
    "imagesStefan = []\n",
    "for i in glob.glob(imagesFolderStefan + \"/*.png\"):\n",
    "    image = cv2.imread(i)\n",
    "    imagesStefan.append(image)"
   ]
  },
  {
   "attachments": {},
   "cell_type": "markdown",
   "metadata": {},
   "source": [
    "Ulf:"
   ]
  },
  {
   "cell_type": "code",
   "execution_count": null,
   "metadata": {},
   "outputs": [],
   "source": [
    "imagesFolderUlf = 'Datasets\\Exercise_4\\Ulf'\n",
    "imagesUlf = []\n",
    "for i in glob.glob(imagesFolderUlf + \"/*.png\"):\n",
    "    image = cv2.imread(i)\n",
    "    imagesUlf.append(image)"
   ]
  }
 ],
 "metadata": {
  "kernelspec": {
   "display_name": "Python 3",
   "language": "python",
   "name": "python3"
  },
  "language_info": {
   "codemirror_mode": {
    "name": "ipython",
    "version": 3
   },
   "file_extension": ".py",
   "mimetype": "text/x-python",
   "name": "python",
   "nbconvert_exporter": "python",
   "pygments_lexer": "ipython3",
   "version": "3.11.0"
  },
  "orig_nbformat": 4
 },
 "nbformat": 4,
 "nbformat_minor": 2
}
