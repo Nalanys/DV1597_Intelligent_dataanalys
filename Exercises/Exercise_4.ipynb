{
 "cells": [
  {
   "cell_type": "code",
   "execution_count": null,
   "metadata": {},
   "outputs": [],
   "source": [
    "import numpy as np\n",
    "import pandas as pd\n",
    "import os\n",
    "import cv2\n"
   ]
  },
  {
   "attachments": {},
   "cell_type": "markdown",
   "metadata": {},
   "source": [
    "## Step 1"
   ]
  },
  {
   "cell_type": "code",
   "execution_count": null,
   "metadata": {},
   "outputs": [],
   "source": [
    "# Define paths to image folders\n",
    "peopleFolder = 'Datasets/Exercise_4/People'\n",
    "\n",
    "dfPeople = pd.DataFrame()\n",
    "\n",
    "# Calculate mean and standard deviation for each person's images\n",
    "for person in os.listdir(peopleFolder):\n",
    "    personPath = os.path.join(peopleFolder, person)\n",
    "    if os.path.isdir(personPath):\n",
    "\n",
    "        # Initialize lists to store means and standard deviations\n",
    "        means = []\n",
    "        stds = []\n",
    "        names = []\n",
    "\n",
    "        # Iterate through images in person's folder\n",
    "        for filename in os.listdir(personPath):\n",
    "            if filename.endswith('.png'):\n",
    "                imagePath = os.path.join(personPath, filename)\n",
    "\n",
    "                img = cv2.imread(imagePath, cv2.IMREAD_GRAYSCALE)\n",
    "        \n",
    "                # Calculate mean and standard deviation of pixel values across all images\n",
    "                mean = np.mean(img)\n",
    "                std = np.std(img)\n",
    "\n",
    "                # Add mean and standard deviation to lists\n",
    "                means.append(mean)\n",
    "                stds.append(std)\n",
    "                names.append(person)\n",
    "\n",
    "        # Calculate average mean and standard deviation across all people\n",
    "        avgMean = np.mean(means)\n",
    "        avgStd = np.mean(stds)\n",
    "        dfPeople = dfPeople.append({'Name': person, 'Mean': avgMean, 'Std': avgStd}, ignore_index=True)\n",
    "dfPeople"
   ]
  },
  {
   "attachments": {},
   "cell_type": "markdown",
   "metadata": {},
   "source": [
    "## Step 2:"
   ]
  },
  {
   "cell_type": "code",
   "execution_count": null,
   "metadata": {},
   "outputs": [],
   "source": [
    "testFolder = 'Datasets\\Exercise_4\\Test'\n",
    "\n",
    "dfTest = pd.DataFrame()\n",
    "\n",
    "# Initialize lists to store means and standard deviations\n",
    "means = []\n",
    "stds = []\n",
    "names = []\n",
    "\n",
    "# Calculate mean and standard deviation for each test image\n",
    "for filename in os.listdir(testFolder):\n",
    "    if filename.endswith('.png'):\n",
    "        \n",
    "        imagePath = os.path.join(testFolder, filename)\n",
    "\n",
    "        img = cv2.imread(imagePath)\n",
    "\n",
    "        mean = np.mean(img)\n",
    "        std = np.std(img)\n",
    "\n",
    "        means.append(mean)\n",
    "        stds.append(std)\n",
    "        names.append(filename)\n",
    "\n",
    "dfTest['Name'] = names\n",
    "dfTest['Mean'] = means\n",
    "dfTest['Std'] = stds\n",
    "\n",
    "dfTest"
   ]
  },
  {
   "attachments": {},
   "cell_type": "markdown",
   "metadata": {},
   "source": [
    "## Step 3"
   ]
  },
  {
   "cell_type": "code",
   "execution_count": null,
   "metadata": {},
   "outputs": [],
   "source": [
    "dfDistance = pd.DataFrame(columns=['Predicted as', 'Andreas', 'Marie', 'Mikael', 'Stefan', 'Ulf', 'True Label'])\n",
    "dfDistance['Predicted as'] = dfTest['Name']\n",
    "\n",
    "# Calculate distance between each test image and each person's mean image with Euclidean distance\n",
    "for index, row in dfTest.iterrows():\n",
    "    for index2, row2 in dfPeople.iterrows():\n",
    "        distance = np.sqrt((row['Mean'] - row2['Mean'])**2 + (row['Std'] - row2['Std'])**2)\n",
    "        dfDistance.loc[index, row2['Name']] = distance\n",
    "\n",
    "# Assign the name of the person with the smallest distance to the predicted label in the true label column\n",
    "for index, row in dfDistance.iterrows():\n",
    "    subset = dfDistance.loc[index, ['Andreas', 'Marie', 'Mikael', 'Stefan', 'Ulf']]\n",
    "    if subset.isnull().values.any():\n",
    "        dfDistance.loc[index, 'True Label'] = np.nan\n",
    "    else:\n",
    "        subset = pd.to_numeric(subset, errors='coerce')\n",
    "        dfDistance.loc[index, 'True Label'] = subset.idxmin()\n",
    "dfDistance"
   ]
  }
 ],
 "metadata": {
  "kernelspec": {
   "display_name": "Python 3",
   "language": "python",
   "name": "python3"
  },
  "language_info": {
   "codemirror_mode": {
    "name": "ipython",
    "version": 3
   },
   "file_extension": ".py",
   "mimetype": "text/x-python",
   "name": "python",
   "nbconvert_exporter": "python",
   "pygments_lexer": "ipython3",
   "version": "3.11.0"
  },
  "orig_nbformat": 4
 },
 "nbformat": 4,
 "nbformat_minor": 2
}
