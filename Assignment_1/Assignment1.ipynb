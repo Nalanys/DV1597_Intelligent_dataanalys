{
 "cells": [
  {
   "cell_type": "markdown",
   "id": "bed918ba",
   "metadata": {},
   "source": [
    "## Assinment 1\n",
    "Sofia Gimholt and Amanda Björk"
   ]
  },
  {
   "cell_type": "code",
   "execution_count": 31,
   "id": "126d8318",
   "metadata": {},
   "outputs": [],
   "source": [
    "%matplotlib inline\n",
    "\n",
    "import matplotlib.pyplot as plt\n",
    "import seaborn as sns\n",
    "\n",
    "import pandas as pd\n",
    "import numpy as np\n",
    "import scipy.stats as scp\n",
    "from scipy.stats import norm, t\n",
    "\n",
    "import statsmodels.api as sm\n",
    "import pylab as py"
   ]
  },
  {
   "cell_type": "code",
   "execution_count": 2,
   "id": "52c8aceb",
   "metadata": {},
   "outputs": [
    {
     "data": {
      "text/html": [
       "<div>\n",
       "<style scoped>\n",
       "    .dataframe tbody tr th:only-of-type {\n",
       "        vertical-align: middle;\n",
       "    }\n",
       "\n",
       "    .dataframe tbody tr th {\n",
       "        vertical-align: top;\n",
       "    }\n",
       "\n",
       "    .dataframe thead th {\n",
       "        text-align: right;\n",
       "    }\n",
       "</style>\n",
       "<table border=\"1\" class=\"dataframe\">\n",
       "  <thead>\n",
       "    <tr style=\"text-align: right;\">\n",
       "      <th></th>\n",
       "      <th>Datum</th>\n",
       "      <th>Tid (UTC)</th>\n",
       "      <th>Lufttemperatur</th>\n",
       "    </tr>\n",
       "  </thead>\n",
       "  <tbody>\n",
       "    <tr>\n",
       "      <th>0</th>\n",
       "      <td>2010-03-01</td>\n",
       "      <td>00:00:00</td>\n",
       "      <td>2.0</td>\n",
       "    </tr>\n",
       "    <tr>\n",
       "      <th>1</th>\n",
       "      <td>2010-03-01</td>\n",
       "      <td>01:00:00</td>\n",
       "      <td>NaN</td>\n",
       "    </tr>\n",
       "    <tr>\n",
       "      <th>2</th>\n",
       "      <td>2010-03-01</td>\n",
       "      <td>02:00:00</td>\n",
       "      <td>2.2</td>\n",
       "    </tr>\n",
       "    <tr>\n",
       "      <th>3</th>\n",
       "      <td>2010-03-01</td>\n",
       "      <td>03:00:00</td>\n",
       "      <td>1.7</td>\n",
       "    </tr>\n",
       "    <tr>\n",
       "      <th>4</th>\n",
       "      <td>2010-03-01</td>\n",
       "      <td>04:00:00</td>\n",
       "      <td>1.7</td>\n",
       "    </tr>\n",
       "    <tr>\n",
       "      <th>...</th>\n",
       "      <td>...</td>\n",
       "      <td>...</td>\n",
       "      <td>...</td>\n",
       "    </tr>\n",
       "    <tr>\n",
       "      <th>113976</th>\n",
       "      <td>2023-01-01</td>\n",
       "      <td>02:00:00</td>\n",
       "      <td>6.2</td>\n",
       "    </tr>\n",
       "    <tr>\n",
       "      <th>113977</th>\n",
       "      <td>2023-01-01</td>\n",
       "      <td>03:00:00</td>\n",
       "      <td>6.5</td>\n",
       "    </tr>\n",
       "    <tr>\n",
       "      <th>113978</th>\n",
       "      <td>2023-01-01</td>\n",
       "      <td>04:00:00</td>\n",
       "      <td>7.7</td>\n",
       "    </tr>\n",
       "    <tr>\n",
       "      <th>113979</th>\n",
       "      <td>2023-01-01</td>\n",
       "      <td>05:00:00</td>\n",
       "      <td>8.7</td>\n",
       "    </tr>\n",
       "    <tr>\n",
       "      <th>113980</th>\n",
       "      <td>2023-01-01</td>\n",
       "      <td>06:00:00</td>\n",
       "      <td>NaN</td>\n",
       "    </tr>\n",
       "  </tbody>\n",
       "</table>\n",
       "<p>113981 rows × 3 columns</p>\n",
       "</div>"
      ],
      "text/plain": [
       "             Datum Tid (UTC)  Lufttemperatur\n",
       "0       2010-03-01  00:00:00             2.0\n",
       "1       2010-03-01  01:00:00             NaN\n",
       "2       2010-03-01  02:00:00             2.2\n",
       "3       2010-03-01  03:00:00             1.7\n",
       "4       2010-03-01  04:00:00             1.7\n",
       "...            ...       ...             ...\n",
       "113976  2023-01-01  02:00:00             6.2\n",
       "113977  2023-01-01  03:00:00             6.5\n",
       "113978  2023-01-01  04:00:00             7.7\n",
       "113979  2023-01-01  05:00:00             8.7\n",
       "113980  2023-01-01  06:00:00             NaN\n",
       "\n",
       "[113981 rows x 3 columns]"
      ]
     },
     "execution_count": 2,
     "metadata": {},
     "output_type": "execute_result"
    }
   ],
   "source": [
    "weatherdf = pd.read_csv(\"SMHI_Data.csv\", sep=\",\")\n",
    "weatherdf"
   ]
  },
  {
   "cell_type": "markdown",
   "id": "ee236b8e",
   "metadata": {},
   "source": [
    "# Questions for E"
   ]
  },
  {
   "cell_type": "markdown",
   "id": "32c7e58f",
   "metadata": {},
   "source": [
    "#### Q1. Explain the data cleaning steps you consider for analyzing the provided dataset. You must motivate and describe why, how, and in which order you are going to apply the selected steps to the dataset.    \n",
    "Then search for the missing values and use the Imputation by interpolation method to predict the missing values. Missing values can lead to incorrect or misleading results while preforming a data analysis. The method imputation by interpolation works by using linger regression to predict the missing values. This is a method that works well when only one column is missing from each data point. This method can cause some issuse with outliers but that can be monitered. \n",
    "\n",
    "Check for duplicates, and delett the duplicated data. To ensure that the data is clean and valid the data can not have any duplicates. Duplicate entries can lead to an incorrect data analysis. If there are two rows with the same date and time it can cause confusion and weigh the data.    \n",
    "\n",
    "Then search for outliers. Outliers may be the cause of a mesuring error or another error in the data collection. Different types of regression may be affected by the outliers. There is not much to do to \"clean\" the data from outlier but they need to be taken into consideration when analysing the dataset.     \n",
    "\n",
    "Check consistensy. Looking at the dataset it does lack consistancy in some places. Some days data is recorded every hour while other days only a few hours were recorded. This means that the dataset does not have consistancy.    "
   ]
  },
  {
   "cell_type": "markdown",
   "id": "79e618be",
   "metadata": {},
   "source": [
    "#### Q2. Does the dataset contain any missing values? If so, how many in both absolute terms and percentages? Reflect on the number of missing values. Do you regard it as much, or not?   "
   ]
  },
  {
   "cell_type": "code",
   "execution_count": 3,
   "id": "fc46534d",
   "metadata": {},
   "outputs": [
    {
     "data": {
      "text/html": [
       "<div>\n",
       "<style scoped>\n",
       "    .dataframe tbody tr th:only-of-type {\n",
       "        vertical-align: middle;\n",
       "    }\n",
       "\n",
       "    .dataframe tbody tr th {\n",
       "        vertical-align: top;\n",
       "    }\n",
       "\n",
       "    .dataframe thead th {\n",
       "        text-align: right;\n",
       "    }\n",
       "</style>\n",
       "<table border=\"1\" class=\"dataframe\">\n",
       "  <thead>\n",
       "    <tr style=\"text-align: right;\">\n",
       "      <th></th>\n",
       "      <th>Datum</th>\n",
       "      <th>Tid (UTC)</th>\n",
       "      <th>Lufttemperatur</th>\n",
       "    </tr>\n",
       "  </thead>\n",
       "  <tbody>\n",
       "    <tr>\n",
       "      <th>0</th>\n",
       "      <td>False</td>\n",
       "      <td>False</td>\n",
       "      <td>False</td>\n",
       "    </tr>\n",
       "    <tr>\n",
       "      <th>1</th>\n",
       "      <td>False</td>\n",
       "      <td>False</td>\n",
       "      <td>True</td>\n",
       "    </tr>\n",
       "    <tr>\n",
       "      <th>2</th>\n",
       "      <td>False</td>\n",
       "      <td>False</td>\n",
       "      <td>False</td>\n",
       "    </tr>\n",
       "    <tr>\n",
       "      <th>3</th>\n",
       "      <td>False</td>\n",
       "      <td>False</td>\n",
       "      <td>False</td>\n",
       "    </tr>\n",
       "    <tr>\n",
       "      <th>4</th>\n",
       "      <td>False</td>\n",
       "      <td>False</td>\n",
       "      <td>False</td>\n",
       "    </tr>\n",
       "    <tr>\n",
       "      <th>...</th>\n",
       "      <td>...</td>\n",
       "      <td>...</td>\n",
       "      <td>...</td>\n",
       "    </tr>\n",
       "    <tr>\n",
       "      <th>113976</th>\n",
       "      <td>False</td>\n",
       "      <td>False</td>\n",
       "      <td>False</td>\n",
       "    </tr>\n",
       "    <tr>\n",
       "      <th>113977</th>\n",
       "      <td>False</td>\n",
       "      <td>False</td>\n",
       "      <td>False</td>\n",
       "    </tr>\n",
       "    <tr>\n",
       "      <th>113978</th>\n",
       "      <td>False</td>\n",
       "      <td>False</td>\n",
       "      <td>False</td>\n",
       "    </tr>\n",
       "    <tr>\n",
       "      <th>113979</th>\n",
       "      <td>False</td>\n",
       "      <td>False</td>\n",
       "      <td>False</td>\n",
       "    </tr>\n",
       "    <tr>\n",
       "      <th>113980</th>\n",
       "      <td>False</td>\n",
       "      <td>False</td>\n",
       "      <td>True</td>\n",
       "    </tr>\n",
       "  </tbody>\n",
       "</table>\n",
       "<p>113981 rows × 3 columns</p>\n",
       "</div>"
      ],
      "text/plain": [
       "        Datum  Tid (UTC)  Lufttemperatur\n",
       "0       False      False           False\n",
       "1       False      False            True\n",
       "2       False      False           False\n",
       "3       False      False           False\n",
       "4       False      False           False\n",
       "...       ...        ...             ...\n",
       "113976  False      False           False\n",
       "113977  False      False           False\n",
       "113978  False      False           False\n",
       "113979  False      False           False\n",
       "113980  False      False            True\n",
       "\n",
       "[113981 rows x 3 columns]"
      ]
     },
     "execution_count": 3,
     "metadata": {},
     "output_type": "execute_result"
    }
   ],
   "source": [
    "missingweather = weatherdf.isna()\n",
    "missingweather"
   ]
  },
  {
   "cell_type": "code",
   "execution_count": 4,
   "id": "27d9703f",
   "metadata": {},
   "outputs": [
    {
     "data": {
      "text/html": [
       "<div>\n",
       "<style scoped>\n",
       "    .dataframe tbody tr th:only-of-type {\n",
       "        vertical-align: middle;\n",
       "    }\n",
       "\n",
       "    .dataframe tbody tr th {\n",
       "        vertical-align: top;\n",
       "    }\n",
       "\n",
       "    .dataframe thead th {\n",
       "        text-align: right;\n",
       "    }\n",
       "</style>\n",
       "<table border=\"1\" class=\"dataframe\">\n",
       "  <thead>\n",
       "    <tr style=\"text-align: right;\">\n",
       "      <th></th>\n",
       "      <th>Datum</th>\n",
       "      <th>Tid (UTC)</th>\n",
       "      <th>Lufttemperatur</th>\n",
       "    </tr>\n",
       "  </thead>\n",
       "  <tbody>\n",
       "    <tr>\n",
       "      <th>1</th>\n",
       "      <td>False</td>\n",
       "      <td>False</td>\n",
       "      <td>True</td>\n",
       "    </tr>\n",
       "    <tr>\n",
       "      <th>10</th>\n",
       "      <td>False</td>\n",
       "      <td>False</td>\n",
       "      <td>True</td>\n",
       "    </tr>\n",
       "    <tr>\n",
       "      <th>41</th>\n",
       "      <td>False</td>\n",
       "      <td>False</td>\n",
       "      <td>True</td>\n",
       "    </tr>\n",
       "    <tr>\n",
       "      <th>47</th>\n",
       "      <td>False</td>\n",
       "      <td>False</td>\n",
       "      <td>True</td>\n",
       "    </tr>\n",
       "    <tr>\n",
       "      <th>49</th>\n",
       "      <td>False</td>\n",
       "      <td>False</td>\n",
       "      <td>True</td>\n",
       "    </tr>\n",
       "    <tr>\n",
       "      <th>...</th>\n",
       "      <td>...</td>\n",
       "      <td>...</td>\n",
       "      <td>...</td>\n",
       "    </tr>\n",
       "    <tr>\n",
       "      <th>113910</th>\n",
       "      <td>False</td>\n",
       "      <td>False</td>\n",
       "      <td>True</td>\n",
       "    </tr>\n",
       "    <tr>\n",
       "      <th>113911</th>\n",
       "      <td>False</td>\n",
       "      <td>False</td>\n",
       "      <td>True</td>\n",
       "    </tr>\n",
       "    <tr>\n",
       "      <th>113928</th>\n",
       "      <td>False</td>\n",
       "      <td>False</td>\n",
       "      <td>True</td>\n",
       "    </tr>\n",
       "    <tr>\n",
       "      <th>113953</th>\n",
       "      <td>False</td>\n",
       "      <td>False</td>\n",
       "      <td>True</td>\n",
       "    </tr>\n",
       "    <tr>\n",
       "      <th>113980</th>\n",
       "      <td>False</td>\n",
       "      <td>False</td>\n",
       "      <td>True</td>\n",
       "    </tr>\n",
       "  </tbody>\n",
       "</table>\n",
       "<p>6713 rows × 3 columns</p>\n",
       "</div>"
      ],
      "text/plain": [
       "        Datum  Tid (UTC)  Lufttemperatur\n",
       "1       False      False            True\n",
       "10      False      False            True\n",
       "41      False      False            True\n",
       "47      False      False            True\n",
       "49      False      False            True\n",
       "...       ...        ...             ...\n",
       "113910  False      False            True\n",
       "113911  False      False            True\n",
       "113928  False      False            True\n",
       "113953  False      False            True\n",
       "113980  False      False            True\n",
       "\n",
       "[6713 rows x 3 columns]"
      ]
     },
     "execution_count": 4,
     "metadata": {},
     "output_type": "execute_result"
    }
   ],
   "source": [
    "missingweather[missingweather['Lufttemperatur']==True]"
   ]
  },
  {
   "cell_type": "code",
   "execution_count": 5,
   "id": "d99f6232",
   "metadata": {},
   "outputs": [
    {
     "data": {
      "text/plain": [
       "0.058895780875759994"
      ]
     },
     "execution_count": 5,
     "metadata": {},
     "output_type": "execute_result"
    }
   ],
   "source": [
    "6713/113981"
   ]
  },
  {
   "cell_type": "markdown",
   "id": "bfa22fbd",
   "metadata": {},
   "source": [
    "Yes the dataset has missing values, presisly 6713 datapoints. In prosentege is is 6% of the dataset. By analysing the number 6713 it may look intemidating and may feel like a large amount, but really it is not that large if when looking at the percentages of missing values it is not that intemidating and will not be regarded as much.\n",
    "\n",
    "There is also a different type of missing value in the dataset. \n",
    "As discussed before the dataset is not consistant which means there are missing data for some timeslots. Some days every 24 hours have been recorded, when other days there are only one recorded tempeture. There is not alot to do about this but it should be taken into considuration when analysing the dataset."
   ]
  },
  {
   "cell_type": "code",
   "execution_count": 6,
   "id": "aa771810",
   "metadata": {},
   "outputs": [],
   "source": [
    "weatherdf['Datumtid'] = pd.to_datetime(weatherdf['Datum'] + ' ' + weatherdf['Tid (UTC)'])\n",
    "\n",
    "# Sort the DataFrame by date\n",
    "weatherdf = weatherdf.sort_values(by='Datumtid')\n",
    "weatherdf['Lufttemperatur'].replace(' ', np.nan, inplace=True)\n",
    "\n",
    "# Interpolate missing values using linear interpolation\n",
    "weatherdf['Lufttemperatur'] = pd.to_numeric(weatherdf['Lufttemperatur'])\n",
    "weatherdf['Lufttemperatur'].interpolate(method='linear', inplace=True)\n",
    "\n",
    "# Save the imputed data to a new csv file\n",
    "weatherdf.to_csv('imputedDataset.csv', index=False)"
   ]
  },
  {
   "cell_type": "markdown",
   "id": "cb70e253",
   "metadata": {},
   "source": [
    "#### Q3. Which strategy was used for handling the missing values? Motivate why you consider the selected strategy the most suitable for this task.     \n",
    "Imputation by interpolation uses existing datapoints to try to predict missing datapoints. This can make it more accurate than other methods for handling missing datapoints. When dealing with tempature data it is good to know that tempature is often continuous meaning it can be shown over time. This makes it possible to eaisier predict a missing value based on the previous and next data point as the missing values should be somewhere in between.\n",
    "\n",
    "As diskussed in previously the imputation by interpolation method was described to be used. The other methods that were considerd was the mean value imputation. This method will add valus without changing the mean value, this can contribute to some randome from data point to data point. The next method considerd was ranodm value imputation, this method just adds random valus which can cause statistical wrongs in the data set. The last method considerd was imputation by nearest neighbor. This by identifying the complete record which matches most to the surcumstanses around the missing values. This is more accurate than the mean method but requiers distance funktion."
   ]
  },
  {
   "cell_type": "markdown",
   "id": "614b69c5",
   "metadata": {},
   "source": [
    "#### Q4. Calculate the following statistics for the air temperature values in the dataset:\n",
    "##### • minimum value"
   ]
  },
  {
   "cell_type": "code",
   "execution_count": 7,
   "id": "c8af776c",
   "metadata": {},
   "outputs": [
    {
     "data": {
      "text/html": [
       "<div>\n",
       "<style scoped>\n",
       "    .dataframe tbody tr th:only-of-type {\n",
       "        vertical-align: middle;\n",
       "    }\n",
       "\n",
       "    .dataframe tbody tr th {\n",
       "        vertical-align: top;\n",
       "    }\n",
       "\n",
       "    .dataframe thead th {\n",
       "        text-align: right;\n",
       "    }\n",
       "</style>\n",
       "<table border=\"1\" class=\"dataframe\">\n",
       "  <thead>\n",
       "    <tr style=\"text-align: right;\">\n",
       "      <th></th>\n",
       "      <th>Datum</th>\n",
       "      <th>Tid (UTC)</th>\n",
       "      <th>Lufttemperatur</th>\n",
       "      <th>Datumtid</th>\n",
       "    </tr>\n",
       "  </thead>\n",
       "  <tbody>\n",
       "    <tr>\n",
       "      <th>17017</th>\n",
       "      <td>2012-02-04</td>\n",
       "      <td>03:00:00</td>\n",
       "      <td>-19.2</td>\n",
       "      <td>2012-02-04 03:00:00</td>\n",
       "    </tr>\n",
       "    <tr>\n",
       "      <th>17018</th>\n",
       "      <td>2012-02-04</td>\n",
       "      <td>04:00:00</td>\n",
       "      <td>-19.0</td>\n",
       "      <td>2012-02-04 04:00:00</td>\n",
       "    </tr>\n",
       "    <tr>\n",
       "      <th>7032</th>\n",
       "      <td>2010-12-21</td>\n",
       "      <td>20:00:00</td>\n",
       "      <td>-18.9</td>\n",
       "      <td>2010-12-21 20:00:00</td>\n",
       "    </tr>\n",
       "    <tr>\n",
       "      <th>8582</th>\n",
       "      <td>2011-02-23</td>\n",
       "      <td>05:00:00</td>\n",
       "      <td>-18.6</td>\n",
       "      <td>2011-02-23 05:00:00</td>\n",
       "    </tr>\n",
       "    <tr>\n",
       "      <th>7043</th>\n",
       "      <td>2010-12-22</td>\n",
       "      <td>07:00:00</td>\n",
       "      <td>-18.3</td>\n",
       "      <td>2010-12-22 07:00:00</td>\n",
       "    </tr>\n",
       "  </tbody>\n",
       "</table>\n",
       "</div>"
      ],
      "text/plain": [
       "            Datum Tid (UTC)  Lufttemperatur            Datumtid\n",
       "17017  2012-02-04  03:00:00           -19.2 2012-02-04 03:00:00\n",
       "17018  2012-02-04  04:00:00           -19.0 2012-02-04 04:00:00\n",
       "7032   2010-12-21  20:00:00           -18.9 2010-12-21 20:00:00\n",
       "8582   2011-02-23  05:00:00           -18.6 2011-02-23 05:00:00\n",
       "7043   2010-12-22  07:00:00           -18.3 2010-12-22 07:00:00"
      ]
     },
     "execution_count": 7,
     "metadata": {},
     "output_type": "execute_result"
    }
   ],
   "source": [
    "weatherMaxdf = weatherdf.sort_values(by='Lufttemperatur', ascending=True)\n",
    "weatherMaxdf.head()"
   ]
  },
  {
   "cell_type": "markdown",
   "id": "3b801bc6",
   "metadata": {},
   "source": [
    "##### • maximum value   "
   ]
  },
  {
   "cell_type": "code",
   "execution_count": 8,
   "id": "c4f0d08d",
   "metadata": {},
   "outputs": [
    {
     "data": {
      "text/html": [
       "<div>\n",
       "<style scoped>\n",
       "    .dataframe tbody tr th:only-of-type {\n",
       "        vertical-align: middle;\n",
       "    }\n",
       "\n",
       "    .dataframe tbody tr th {\n",
       "        vertical-align: top;\n",
       "    }\n",
       "\n",
       "    .dataframe thead th {\n",
       "        text-align: right;\n",
       "    }\n",
       "</style>\n",
       "<table border=\"1\" class=\"dataframe\">\n",
       "  <thead>\n",
       "    <tr style=\"text-align: right;\">\n",
       "      <th></th>\n",
       "      <th>Datum</th>\n",
       "      <th>Tid (UTC)</th>\n",
       "      <th>Lufttemperatur</th>\n",
       "      <th>Datumtid</th>\n",
       "    </tr>\n",
       "  </thead>\n",
       "  <tbody>\n",
       "    <tr>\n",
       "      <th>74345</th>\n",
       "      <td>2018-07-16</td>\n",
       "      <td>11:00:00</td>\n",
       "      <td>39.6</td>\n",
       "      <td>2018-07-16 11:00:00</td>\n",
       "    </tr>\n",
       "    <tr>\n",
       "      <th>39164</th>\n",
       "      <td>2014-07-30</td>\n",
       "      <td>12:00:00</td>\n",
       "      <td>39.4</td>\n",
       "      <td>2014-07-30 12:00:00</td>\n",
       "    </tr>\n",
       "    <tr>\n",
       "      <th>56103</th>\n",
       "      <td>2016-06-25</td>\n",
       "      <td>12:00:00</td>\n",
       "      <td>39.0</td>\n",
       "      <td>2016-06-25 12:00:00</td>\n",
       "    </tr>\n",
       "    <tr>\n",
       "      <th>74368</th>\n",
       "      <td>2018-07-17</td>\n",
       "      <td>10:00:00</td>\n",
       "      <td>38.6</td>\n",
       "      <td>2018-07-17 10:00:00</td>\n",
       "    </tr>\n",
       "    <tr>\n",
       "      <th>74739</th>\n",
       "      <td>2018-08-01</td>\n",
       "      <td>15:00:00</td>\n",
       "      <td>38.2</td>\n",
       "      <td>2018-08-01 15:00:00</td>\n",
       "    </tr>\n",
       "  </tbody>\n",
       "</table>\n",
       "</div>"
      ],
      "text/plain": [
       "            Datum Tid (UTC)  Lufttemperatur            Datumtid\n",
       "74345  2018-07-16  11:00:00            39.6 2018-07-16 11:00:00\n",
       "39164  2014-07-30  12:00:00            39.4 2014-07-30 12:00:00\n",
       "56103  2016-06-25  12:00:00            39.0 2016-06-25 12:00:00\n",
       "74368  2018-07-17  10:00:00            38.6 2018-07-17 10:00:00\n",
       "74739  2018-08-01  15:00:00            38.2 2018-08-01 15:00:00"
      ]
     },
     "execution_count": 8,
     "metadata": {},
     "output_type": "execute_result"
    }
   ],
   "source": [
    "weatherMaxdf = weatherdf.sort_values(by='Lufttemperatur', ascending=False)\n",
    "weatherMaxdf.head()"
   ]
  },
  {
   "cell_type": "markdown",
   "id": "d3b53be1",
   "metadata": {},
   "source": [
    "##### • sample mean   "
   ]
  },
  {
   "cell_type": "code",
   "execution_count": 9,
   "id": "a879b39b",
   "metadata": {},
   "outputs": [
    {
     "data": {
      "text/plain": [
       "9.431193795457359"
      ]
     },
     "execution_count": 9,
     "metadata": {},
     "output_type": "execute_result"
    }
   ],
   "source": [
    "data = weatherdf['Lufttemperatur']\n",
    "mean = np.mean(data)\n",
    "mean"
   ]
  },
  {
   "cell_type": "markdown",
   "id": "2fdb3ac6",
   "metadata": {},
   "source": [
    "##### • Q1/Q2/Q3 quartiles   "
   ]
  },
  {
   "cell_type": "code",
   "execution_count": 10,
   "id": "f7650a0e",
   "metadata": {},
   "outputs": [
    {
     "data": {
      "text/plain": [
       "0.25     4.1\n",
       "0.50     9.1\n",
       "0.75    15.2\n",
       "Name: Lufttemperatur, dtype: float64"
      ]
     },
     "execution_count": 10,
     "metadata": {},
     "output_type": "execute_result"
    }
   ],
   "source": [
    "weatherdf.Lufttemperatur.quantile([0.25,0.5,0.75])"
   ]
  },
  {
   "cell_type": "markdown",
   "id": "b48d543a",
   "metadata": {},
   "source": [
    "##### • sample standard deviation   "
   ]
  },
  {
   "cell_type": "code",
   "execution_count": 11,
   "id": "4f16f9c4",
   "metadata": {},
   "outputs": [
    {
     "data": {
      "text/plain": [
       "6.996340116814043"
      ]
     },
     "execution_count": 11,
     "metadata": {},
     "output_type": "execute_result"
    }
   ],
   "source": [
    "std = np.std(data)\n",
    "std"
   ]
  },
  {
   "cell_type": "markdown",
   "id": "debcde9f",
   "metadata": {},
   "source": [
    "##### • 95% confidence interval of the mean"
   ]
  },
  {
   "cell_type": "code",
   "execution_count": 12,
   "id": "05a7771b",
   "metadata": {},
   "outputs": [
    {
     "data": {
      "text/plain": [
       "(9.390576660081946, 9.471810930832772)"
      ]
     },
     "execution_count": 12,
     "metadata": {},
     "output_type": "execute_result"
    }
   ],
   "source": [
    "weatherTempdf = weatherdf['Lufttemperatur']\n",
    "\n",
    "n = len(weatherTempdf)\n",
    "\n",
    "stdError = weatherTempdf.std() / (n**0.5)\n",
    "\n",
    "t.interval(0.95, n - 1, loc=mean, scale=stdError)"
   ]
  },
  {
   "cell_type": "markdown",
   "id": "cf95ae29",
   "metadata": {},
   "source": [
    "#### Q5. Plot all available air temperature data as a line plot with dates on the x-axis."
   ]
  },
  {
   "cell_type": "code",
   "execution_count": 13,
   "id": "8c5ed9e7",
   "metadata": {},
   "outputs": [
    {
     "data": {
      "image/png": "[encoded data removed]",
      "text/plain": [
       "<Figure size 3000x1000 with 1 Axes>"
      ]
     },
     "metadata": {},
     "output_type": "display_data"
    }
   ],
   "source": [
    "weatherdf['Datumtid'] = pd.to_datetime(weatherdf['Datum'] + ' ' + weatherdf['Tid (UTC)'])\n",
    "\n",
    "plt.figure(figsize=(30,10))\n",
    "\n",
    "plt.plot(weatherdf['Datumtid'], weatherdf['Lufttemperatur'])\n",
    "\n",
    "plt.axhline(y=0, color='black', linestyle='-')\n",
    "\n",
    "plt.xlabel('Datum och Tid')\n",
    "plt.ylabel('Lufttemperatur (C)')\n",
    "plt.title('Lufttemperatur över tid')\n",
    "\n",
    "plt.show()"
   ]
  },
  {
   "cell_type": "markdown",
   "id": "aa0821e5",
   "metadata": {},
   "source": [
    "#### Q6. Rank the overall temperature per month, sort from the coldest to the warmest. List the top ten (10) coldest months in the dataset. Format the output as: YEAR/Month: temp, e.g.“2010/January: -5.0”"
   ]
  },
  {
   "cell_type": "code",
   "execution_count": 14,
   "id": "faca751c",
   "metadata": {},
   "outputs": [
    {
     "name": "stdout",
     "output_type": "stream",
     "text": [
      "2010/December: -3.8\n",
      "2011/February: -1.5\n",
      "2012/February: -1.5\n",
      "2021/February: -1.0\n",
      "2016/January: -0.9\n",
      "2018/February: -0.9\n",
      "2013/March: -0.8\n",
      "2013/January: -0.6\n",
      "2012/December: -0.6\n",
      "2011/January: -0.4\n"
     ]
    }
   ],
   "source": [
    "weatherdf['År'] = weatherdf['Datumtid'].dt.year\n",
    "weatherdf['Månad'] = weatherdf['Datumtid'].dt.month_name()\n",
    "\n",
    "# Average temperature per month\n",
    "monthlyTemperatures = weatherdf.groupby(['År', 'Månad'])['Lufttemperatur'].mean().reset_index()\n",
    "\n",
    "# Sort average temperature values in ascending order\n",
    "coldestMonths = monthlyTemperatures.sort_values(by='Lufttemperatur').head(10)\n",
    "\n",
    "# Top ten coldest months\n",
    "for i, row in coldestMonths.iterrows():\n",
    "    print(f\"{row['År']}/{row['Månad']}: {row['Lufttemperatur']:.1f}\")"
   ]
  },
  {
   "cell_type": "markdown",
   "id": "ec5c5ef8",
   "metadata": {},
   "source": [
    "### Drop duplicates"
   ]
  },
  {
   "cell_type": "code",
   "execution_count": 15,
   "id": "fee1d1a2",
   "metadata": {},
   "outputs": [
    {
     "data": {
      "text/plain": [
       "2093"
      ]
     },
     "execution_count": 15,
     "metadata": {},
     "output_type": "execute_result"
    }
   ],
   "source": [
    "#Check for duplicates\n",
    "weatherdf.duplicated(subset=['Datumtid'], keep='first').sum()"
   ]
  },
  {
   "cell_type": "code",
   "execution_count": 21,
   "id": "9528a916",
   "metadata": {},
   "outputs": [],
   "source": [
    "#Drop Duplicates\n",
    "weatherdf.drop_duplicates(inplace=True)"
   ]
  },
  {
   "cell_type": "code",
   "execution_count": 22,
   "id": "3ea881e4",
   "metadata": {},
   "outputs": [
    {
     "data": {
      "text/html": [
       "<div>\n",
       "<style scoped>\n",
       "    .dataframe tbody tr th:only-of-type {\n",
       "        vertical-align: middle;\n",
       "    }\n",
       "\n",
       "    .dataframe tbody tr th {\n",
       "        vertical-align: top;\n",
       "    }\n",
       "\n",
       "    .dataframe thead th {\n",
       "        text-align: right;\n",
       "    }\n",
       "</style>\n",
       "<table border=\"1\" class=\"dataframe\">\n",
       "  <thead>\n",
       "    <tr style=\"text-align: right;\">\n",
       "      <th></th>\n",
       "      <th>Datum</th>\n",
       "      <th>Tid (UTC)</th>\n",
       "      <th>Lufttemperatur</th>\n",
       "      <th>Datumtid</th>\n",
       "      <th>År</th>\n",
       "      <th>Månad</th>\n",
       "    </tr>\n",
       "  </thead>\n",
       "  <tbody>\n",
       "    <tr>\n",
       "      <th>0</th>\n",
       "      <td>2010-03-01</td>\n",
       "      <td>00:00:00</td>\n",
       "      <td>2.0</td>\n",
       "      <td>2010-03-01 00:00:00</td>\n",
       "      <td>2010</td>\n",
       "      <td>March</td>\n",
       "    </tr>\n",
       "    <tr>\n",
       "      <th>1</th>\n",
       "      <td>2010-03-01</td>\n",
       "      <td>01:00:00</td>\n",
       "      <td>2.1</td>\n",
       "      <td>2010-03-01 01:00:00</td>\n",
       "      <td>2010</td>\n",
       "      <td>March</td>\n",
       "    </tr>\n",
       "    <tr>\n",
       "      <th>2</th>\n",
       "      <td>2010-03-01</td>\n",
       "      <td>02:00:00</td>\n",
       "      <td>2.2</td>\n",
       "      <td>2010-03-01 02:00:00</td>\n",
       "      <td>2010</td>\n",
       "      <td>March</td>\n",
       "    </tr>\n",
       "    <tr>\n",
       "      <th>3</th>\n",
       "      <td>2010-03-01</td>\n",
       "      <td>03:00:00</td>\n",
       "      <td>1.7</td>\n",
       "      <td>2010-03-01 03:00:00</td>\n",
       "      <td>2010</td>\n",
       "      <td>March</td>\n",
       "    </tr>\n",
       "    <tr>\n",
       "      <th>4</th>\n",
       "      <td>2010-03-01</td>\n",
       "      <td>04:00:00</td>\n",
       "      <td>1.7</td>\n",
       "      <td>2010-03-01 04:00:00</td>\n",
       "      <td>2010</td>\n",
       "      <td>March</td>\n",
       "    </tr>\n",
       "    <tr>\n",
       "      <th>...</th>\n",
       "      <td>...</td>\n",
       "      <td>...</td>\n",
       "      <td>...</td>\n",
       "      <td>...</td>\n",
       "      <td>...</td>\n",
       "      <td>...</td>\n",
       "    </tr>\n",
       "    <tr>\n",
       "      <th>113976</th>\n",
       "      <td>2023-01-01</td>\n",
       "      <td>02:00:00</td>\n",
       "      <td>6.2</td>\n",
       "      <td>2023-01-01 02:00:00</td>\n",
       "      <td>2023</td>\n",
       "      <td>January</td>\n",
       "    </tr>\n",
       "    <tr>\n",
       "      <th>113977</th>\n",
       "      <td>2023-01-01</td>\n",
       "      <td>03:00:00</td>\n",
       "      <td>6.5</td>\n",
       "      <td>2023-01-01 03:00:00</td>\n",
       "      <td>2023</td>\n",
       "      <td>January</td>\n",
       "    </tr>\n",
       "    <tr>\n",
       "      <th>113978</th>\n",
       "      <td>2023-01-01</td>\n",
       "      <td>04:00:00</td>\n",
       "      <td>7.7</td>\n",
       "      <td>2023-01-01 04:00:00</td>\n",
       "      <td>2023</td>\n",
       "      <td>January</td>\n",
       "    </tr>\n",
       "    <tr>\n",
       "      <th>113979</th>\n",
       "      <td>2023-01-01</td>\n",
       "      <td>05:00:00</td>\n",
       "      <td>8.7</td>\n",
       "      <td>2023-01-01 05:00:00</td>\n",
       "      <td>2023</td>\n",
       "      <td>January</td>\n",
       "    </tr>\n",
       "    <tr>\n",
       "      <th>113980</th>\n",
       "      <td>2023-01-01</td>\n",
       "      <td>06:00:00</td>\n",
       "      <td>8.7</td>\n",
       "      <td>2023-01-01 06:00:00</td>\n",
       "      <td>2023</td>\n",
       "      <td>January</td>\n",
       "    </tr>\n",
       "  </tbody>\n",
       "</table>\n",
       "<p>111889 rows × 6 columns</p>\n",
       "</div>"
      ],
      "text/plain": [
       "             Datum Tid (UTC)  Lufttemperatur            Datumtid    År  \\\n",
       "0       2010-03-01  00:00:00             2.0 2010-03-01 00:00:00  2010   \n",
       "1       2010-03-01  01:00:00             2.1 2010-03-01 01:00:00  2010   \n",
       "2       2010-03-01  02:00:00             2.2 2010-03-01 02:00:00  2010   \n",
       "3       2010-03-01  03:00:00             1.7 2010-03-01 03:00:00  2010   \n",
       "4       2010-03-01  04:00:00             1.7 2010-03-01 04:00:00  2010   \n",
       "...            ...       ...             ...                 ...   ...   \n",
       "113976  2023-01-01  02:00:00             6.2 2023-01-01 02:00:00  2023   \n",
       "113977  2023-01-01  03:00:00             6.5 2023-01-01 03:00:00  2023   \n",
       "113978  2023-01-01  04:00:00             7.7 2023-01-01 04:00:00  2023   \n",
       "113979  2023-01-01  05:00:00             8.7 2023-01-01 05:00:00  2023   \n",
       "113980  2023-01-01  06:00:00             8.7 2023-01-01 06:00:00  2023   \n",
       "\n",
       "          Månad  \n",
       "0         March  \n",
       "1         March  \n",
       "2         March  \n",
       "3         March  \n",
       "4         March  \n",
       "...         ...  \n",
       "113976  January  \n",
       "113977  January  \n",
       "113978  January  \n",
       "113979  January  \n",
       "113980  January  \n",
       "\n",
       "[111889 rows x 6 columns]"
      ]
     },
     "execution_count": 22,
     "metadata": {},
     "output_type": "execute_result"
    }
   ],
   "source": [
    "weatherdf"
   ]
  }
 ],
 "metadata": {
  "kernelspec": {
   "display_name": "Python 3 (ipykernel)",
   "language": "python",
   "name": "python3"
  },
  "language_info": {
   "codemirror_mode": {
    "name": "ipython",
    "version": 3
   },
   "file_extension": ".py",
   "mimetype": "text/x-python",
   "name": "python",
   "nbconvert_exporter": "python",
   "pygments_lexer": "ipython3",
   "version": "3.9.13"
  }
 },
 "nbformat": 4,
 "nbformat_minor": 5
}
